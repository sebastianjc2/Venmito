{
 "cells": [
  {
   "cell_type": "markdown",
   "metadata": {},
   "source": [
    "# Data Analysis Results for Non-Technical Team"
   ]
  },
  {
   "cell_type": "markdown",
   "metadata": {},
   "source": [
    "### Imports"
   ]
  },
  {
   "cell_type": "code",
   "execution_count": 1,
   "metadata": {},
   "outputs": [],
   "source": [
    "import pandas as pd\n",
    "import matplotlib.pyplot as plt\n",
    "import ipywidgets as widgets\n",
    "from IPython.display import display\n",
    "import data_analysis"
   ]
  },
  {
   "cell_type": "markdown",
   "metadata": {},
   "source": [
    "### Load Data "
   ]
  },
  {
   "cell_type": "code",
   "execution_count": 2,
   "metadata": {},
   "outputs": [],
   "source": [
    "def load_data():    \n",
    "    item_summary_df = pd.read_csv('new_data/item_summary_df.csv')\n",
    "    people_df = pd.read_csv('new_data/people_df.csv')\n",
    "    promotions_df = pd.read_csv('new_data/promotions_df.csv')\n",
    "    store_summary_df = pd.read_csv('new_data/store_summary_df.csv')\n",
    "    transactions_df = pd.read_csv('new_data/transactions_df.csv')\n",
    "    transfers_df = pd.read_csv('new_data/transfers_df.csv')\n",
    "    user_transactions_df = pd.read_csv('new_data/user_transactions_df.csv')\n",
    "    user_transfers_df = pd.read_csv('new_data/user_transfers_df.csv')\n",
    "\n",
    "    conformed_data = {\n",
    "        'item_summary': item_summary_df,\n",
    "        'people': people_df,\n",
    "        'promotions': promotions_df,\n",
    "        'store_summary': store_summary_df,\n",
    "        'transactions': transactions_df,\n",
    "        'transfers': transfers_df,\n",
    "        'user_transactions': user_transactions_df,\n",
    "        'user_transfers': user_transfers_df\n",
    "    }\n",
    "\n",
    "    return conformed_data\n",
    "\n",
    "data = load_data()\n",
    "item_summary_df = data['item_summary']\n",
    "people_df = data['people']\n",
    "promotions_df = data['promotions']\n",
    "store_summary_df = data['store_summary']\n",
    "transactions_df = data['transactions']\n",
    "transfers_df = data['transfers']\n",
    "user_transactions_df = data['user_transactions']\n",
    "user_transfers_df = data['user_transfers']"
   ]
  },
  {
   "cell_type": "markdown",
   "metadata": {},
   "source": [
    "### Promotion Response Count"
   ]
  },
  {
   "cell_type": "code",
   "execution_count": null,
   "metadata": {},
   "outputs": [],
   "source": [
    "def promotion_response_counts():\n",
    "    \"\"\"Updates the graph based on selected response.\"\"\"\n",
    "    yes_count = data_analysis.promotion_responded(promotions_df, 'Yes')\n",
    "    no_count = data_analysis.promotion_responded(promotions_df, 'No')\n",
    "\n",
    "    labels = ['Yes', 'No']\n",
    "    counts = [yes_count, no_count]\n",
    "\n",
    "    plt.figure(figsize=(8, 5))\n",
    "    bars = plt.bar(labels, counts, color=['green', 'red'])\n",
    "    plt.bar_label(bars)\n",
    "    plt.title('Promotion Response Count')\n",
    "    plt.xlabel('Response')\n",
    "    plt.ylabel('Count')\n",
    "    plt.show()\n",
    "promotion_response_counts()"
   ]
  },
  {
   "cell_type": "markdown",
   "metadata": {},
   "source": [
    "### Promotion Acceptance Rate"
   ]
  },
  {
   "cell_type": "code",
   "execution_count": null,
   "metadata": {},
   "outputs": [],
   "source": [
    "def client_response_rate():\n",
    "    \"\"\"Updates the graph based on selected response.\"\"\"\n",
    "    response = data_analysis.client_response_rate(promotions_df)\n",
    "\n",
    "    labels = ['Yes', 'No']\n",
    "    values = [response[1], response[0]]\n",
    "\n",
    "    plt.figure(figsize=(8, 5))\n",
    "    plt.pie(values, labels=labels, autopct='%1.1f%%',colors=['green', 'red'])\n",
    "    plt.title(\"Promotions' acceptance rate\")\n",
    "    plt.axis('equal')\n",
    "    plt.show()\n",
    "\n",
    "client_response_rate()"
   ]
  },
  {
   "cell_type": "markdown",
   "metadata": {},
   "source": [
    "### Promotions per country"
   ]
  },
  {
   "cell_type": "code",
   "execution_count": null,
   "metadata": {},
   "outputs": [],
   "source": [
    "def promotions_per_country():\n",
    "    pivot = data_analysis.promotions_by_type_of_clients(promotions_df, people_df).pivot(index='promotion', columns='country', values='count')\n",
    "    ax = pivot.plot(kind='bar', figsize=(10, 6), color=['red', 'green', 'purple', 'blue', 'orange'], width=0.6)\n",
    "\n",
    "    plt.title('Promotions per Country')\n",
    "    plt.xlabel('Promotions')\n",
    "    plt.ylabel('Count')\n",
    "    plt.xticks(rotation=45)\n",
    "    plt.yticks(ticks=[0,4,8,12,16,20])\n",
    "    plt.legend(title='Country', bbox_to_anchor=(1.05, 1), loc='upper left')\n",
    "    plt.tight_layout()\n",
    "    plt.show()\n",
    "\n",
    "promotions_per_country()"
   ]
  },
  {
   "cell_type": "markdown",
   "metadata": {},
   "source": [
    "### Items sold per country"
   ]
  },
  {
   "cell_type": "code",
   "execution_count": null,
   "metadata": {},
   "outputs": [],
   "source": [
    "print(\"Items sold per country\")\n",
    "data_analysis.items_sold_per_country(transactions_df, people_df)\n"
   ]
  },
  {
   "cell_type": "markdown",
   "metadata": {},
   "source": [
    "### Acceptance rate of promotions per country"
   ]
  },
  {
   "cell_type": "code",
   "execution_count": null,
   "metadata": {},
   "outputs": [],
   "source": [
    "from matplotlib.ticker import PercentFormatter\n",
    "\n",
    "def promotions_per_country_with_acceptance_rate():\n",
    "    pivot = data_analysis.promotions_by_type_of_clients_with_acceptance_rate(promotions_df, people_df).pivot(index='promotion', columns='country', values='acceptance_rate')\n",
    "    ax = pivot.plot(kind='bar', figsize=(10, 6), color=['red', 'green', 'purple', 'blue', 'orange'], width=0.6)\n",
    "\n",
    "    plt.title('Acceptance Rate of Promotions per Country')\n",
    "    plt.xlabel('Promotions')\n",
    "    plt.ylabel('Acceptance Rate')\n",
    "    plt.xticks(rotation=45)\n",
    "    plt.yticks(ticks=[0,10,20,30,40,50,60,70,80,90,100])\n",
    "    ax.yaxis.set_major_formatter(PercentFormatter())\n",
    "    plt.legend(title='Country', bbox_to_anchor=(1.05, 1), loc='upper left')\n",
    "    plt.tight_layout()\n",
    "    plt.show()\n",
    "\n",
    "promotions_per_country_with_acceptance_rate()"
   ]
  },
  {
   "cell_type": "markdown",
   "metadata": {},
   "source": [
    "### Highest spending clients and their promotions"
   ]
  },
  {
   "cell_type": "code",
   "execution_count": null,
   "metadata": {},
   "outputs": [],
   "source": [
    "print('Highest spending clients and their promotions:')\n",
    "data_analysis.possible_conversion_strategy(user_transactions_df, promotions_df, people_df)"
   ]
  },
  {
   "cell_type": "markdown",
   "metadata": {},
   "source": [
    "### Top n selling items"
   ]
  },
  {
   "cell_type": "code",
   "execution_count": null,
   "metadata": {},
   "outputs": [],
   "source": [
    "def plot_top_selling_items(n):\n",
    "    top_selling_items = data_analysis.top_selling_items(item_summary_df, n)\n",
    "\n",
    "    plt.figure(figsize=(10, 6))\n",
    "    bars = plt.bar(top_selling_items['item'], top_selling_items['items_sold'], color='blue')\n",
    "    bars = plt.bar_label(bars)\n",
    "    plt.title(f'Top {n} Selling Items')\n",
    "    plt.xlabel('Items')\n",
    "    plt.ylabel('Quantity Sold')\n",
    "    plt.xticks(rotation=45)\n",
    "    plt.show()\n",
    "\n",
    "n_widget = widgets.IntSlider(value=5, min=1, max=5, step=1, description='Top n items')\n",
    "widgets.interact(plot_top_selling_items, n=n_widget)"
   ]
  },
  {
   "cell_type": "markdown",
   "metadata": {},
   "source": [
    "### Which clients have what type of promotions?\n",
    "\n",
    "From the data shown above, we can get various insights on what clients have the different types of promotions. As seen in the \"Promotions per Country\" graph, there is a heavy focus on promotion towards USA, with Canada being 2nd in most cases. Clients in the USA are far more prone to receive all types of promotions than any other country.\n",
    "\n",
    "### Suggestions on how to turn \"No\" responses from clients in the promotions file.\n",
    "\n",
    "- Looking at the table \"Items sold per country\" we can see that there are no transactions happening outside the USA. Looking at the numbers of promotions outside the USA, we can also see that there is not much focus on promotions happening outside the USA. A good start would be to focus on promoting or catering towards the countries that are showing low acceptance rate of promotions. For example, Coca-Splash has 0% acceptance rate in Canada, Spain and UK. Likewise, Colgatex has 0% in Canada and Spain. Although it is a lower sample size, increasing the promotion numbers and focusing some more in these places outside the USA with low acceptance rate can help increase the number of \"Yes\" responses from clients.\n",
    "- Another approach would be to increase promotions on the top selling items. We can see that the item most promoted in the US is OREOZ, but compared to Dovee, it is bought way less often. If they shift the focus to promoting Dovee more, since it is also the one that is being bought the most, people are more likely to respond \"Yes\" than on items they might not need.\n",
    "- In the table \"Highest spending clients and their promotions\", I aim to show that most of the top spenders haven't received promotions. As they are actively spending, sending promotions their way would probably entice them to accept, and would help increase the amount of \"Yes\" responses.\n",
    "- On items with low acceptance rates of promotions, offering discounts or bundles could help turning the \"No\" responses into \"Yes\"."
   ]
  },
  {
   "cell_type": "markdown",
   "metadata": {},
   "source": [
    "### People that bought the promoted item after responding \"Yes\" to a promotion"
   ]
  },
  {
   "cell_type": "code",
   "execution_count": null,
   "metadata": {},
   "outputs": [],
   "source": [
    "data_analysis.promotion_response_yes_buyer(promotions_df, transactions_df)"
   ]
  },
  {
   "cell_type": "markdown",
   "metadata": {},
   "source": [
    "In the output above, we see only one record. The method that was called is supposed to output all of the people that bought the item that they responded \"Yes\" to in promotions_df. We can see that only 1 person, accounting for around 2% of the people that accepted promotions, bought the item that was promoted to them after responding \"Yes\"."
   ]
  },
  {
   "cell_type": "markdown",
   "metadata": {},
   "source": [
    "### Top n items promoted"
   ]
  },
  {
   "cell_type": "code",
   "execution_count": null,
   "metadata": {},
   "outputs": [],
   "source": [
    "def plot_top_promoted_items(n):\n",
    "    top_promoted_items = data_analysis.analyze_client_promotions(promotions_df, people_df, n)\n",
    "\n",
    "    plt.figure(figsize=(10, 6))\n",
    "    bars = plt.bar(top_promoted_items['promotion'], top_promoted_items['client_count'], color='blue')\n",
    "    bars = plt.bar_label(bars)\n",
    "    plt.title(f'Top {n} Promoted Items')\n",
    "    plt.xlabel('Items Promoted')\n",
    "    plt.ylabel('Client Count')\n",
    "    plt.xticks(rotation=45)\n",
    "    plt.show()\n",
    "\n",
    "n_widget = widgets.IntSlider(value=5, min=1, max=5, step=1, description='Top n items')\n",
    "widgets.interact(plot_top_promoted_items, n=n_widget)"
   ]
  },
  {
   "cell_type": "markdown",
   "metadata": {},
   "source": [
    "### Top n most profitable items"
   ]
  },
  {
   "cell_type": "code",
   "execution_count": null,
   "metadata": {},
   "outputs": [],
   "source": [
    "def plot_most_profitable_items(n):\n",
    "    most_profitable_items = data_analysis.most_profitable_items(item_summary_df, n)\n",
    "\n",
    "    plt.figure(figsize=(10, 6))\n",
    "    bars = plt.bar(most_profitable_items['item'], most_profitable_items['total_revenue'], color='blue')\n",
    "    bars = plt.bar_label(bars)\n",
    "    plt.title(f'Top {n} Most Profitable Items')\n",
    "    plt.xlabel('Items')\n",
    "    plt.ylabel('Revenue')\n",
    "    plt.xticks(rotation=45)\n",
    "    plt.show()\n",
    "\n",
    "n_widget = widgets.IntSlider(value=5, min=1, max=5, step=1, description='Top n items')\n",
    "widgets.interact(plot_most_profitable_items, n=n_widget)"
   ]
  },
  {
   "cell_type": "markdown",
   "metadata": {},
   "source": [
    "### Top n most profitable stores"
   ]
  },
  {
   "cell_type": "code",
   "execution_count": null,
   "metadata": {},
   "outputs": [],
   "source": [
    "def plot_most_profitable_stores(n):\n",
    "    most_profitable_stores = data_analysis.most_profitable_stores(store_summary_df, n)\n",
    "\n",
    "    plt.figure(figsize=(10, 6))\n",
    "    bars = plt.bar(most_profitable_stores['store'], most_profitable_stores['total_revenue'], color='blue')\n",
    "    bars = plt.bar_label(bars)\n",
    "    plt.title(f'Top {n} Most Profitable Stores')\n",
    "    plt.xlabel('Stores')\n",
    "    plt.ylabel('Revenue')\n",
    "    plt.xticks(rotation=45)\n",
    "    plt.show()\n",
    "\n",
    "n_widget = widgets.IntSlider(value=5, min=1, max=5, step=1, description='Top n stores')\n",
    "widgets.interact(plot_most_profitable_stores, n=n_widget)"
   ]
  },
  {
   "cell_type": "markdown",
   "metadata": {},
   "source": [
    "### Top n stores with most transactions"
   ]
  },
  {
   "cell_type": "code",
   "execution_count": null,
   "metadata": {},
   "outputs": [],
   "source": [
    "def plot_most_transactions_stores(n):\n",
    "    most_transactions_stores = data_analysis.most_bought_from_stores(store_summary_df, n)\n",
    "\n",
    "    plt.figure(figsize=(10, 6))\n",
    "    bars = plt.bar(most_transactions_stores['store'], most_transactions_stores['total_transactions'], color='blue')\n",
    "    bars = plt.bar_label(bars)\n",
    "    plt.title(f'Top {n} Stores with Most Transactions')\n",
    "    plt.xlabel('Stores')\n",
    "    plt.ylabel('Transactions')\n",
    "    plt.xticks(rotation=45)\n",
    "    plt.show()\n",
    "\n",
    "n_widget = widgets.IntSlider(value=5, min=1, max=5, step=1, description='Top n stores')\n",
    "widgets.interact(plot_most_transactions_stores, n=n_widget)"
   ]
  },
  {
   "cell_type": "markdown",
   "metadata": {},
   "source": [
    "### User's favorite store"
   ]
  },
  {
   "cell_type": "code",
   "execution_count": null,
   "metadata": {},
   "outputs": [],
   "source": [
    "widget_user = widgets.IntText(value=1, description='User ID:', min=1, max=1000)\n",
    "\n",
    "def show_favorite_store(user_id):\n",
    "    favorite_store = data_analysis.favorite_store_by_user_id(user_transactions_df, user_id)\n",
    "    if not pd.isna(favorite_store):\n",
    "        print(f\"User {user_id}'s favorite store is {favorite_store}\")\n",
    "    else:\n",
    "        print(f\"User {user_id} has not made any transactions at any store\")\n",
    "\n",
    "widgets.interact(show_favorite_store, user_id=widget_user);"
   ]
  },
  {
   "cell_type": "markdown",
   "metadata": {},
   "source": [
    "### Top n users with the most sent amount"
   ]
  },
  {
   "cell_type": "code",
   "execution_count": null,
   "metadata": {},
   "outputs": [],
   "source": [
    "def plot_top_senders(n):\n",
    "    top_senders = data_analysis.top_senders(user_transfers_df, people_df, n)\n",
    "\n",
    "    plt.figure(figsize=(10, 6))\n",
    "    bars = plt.bar(top_senders['first_name'] + ' ' + top_senders['last_name'], top_senders['total_sent'], color='blue')\n",
    "    bars = plt.bar_label(bars)\n",
    "    plt.title(f'Top {n} Users with the most sent amount')\n",
    "    plt.xlabel('Users')\n",
    "    plt.ylabel('Amount Sent (USD)')\n",
    "\n",
    "    plt.xticks(rotation=45)\n",
    "    plt.show()\n",
    "\n",
    "n_widget = widgets.IntSlider(value=3, min=1, max=10, step=1, description='Top n users')\n",
    "widgets.interact(plot_top_senders, n=n_widget)"
   ]
  },
  {
   "cell_type": "markdown",
   "metadata": {},
   "source": [
    "### Top n users with the most received amount"
   ]
  },
  {
   "cell_type": "code",
   "execution_count": null,
   "metadata": {},
   "outputs": [],
   "source": [
    "def plot_top_receivers(n):\n",
    "    top_receivers = data_analysis.top_receivers(user_transfers_df, people_df, n)\n",
    "\n",
    "    plt.figure(figsize=(10, 6))\n",
    "    bars = plt.bar(top_receivers['first_name'] + ' ' + top_receivers['last_name'], top_receivers['total_received'], color='blue')\n",
    "    bars = plt.bar_label(bars)\n",
    "    plt.title(f'Top {n} Users with the most received amount')\n",
    "    plt.xlabel('Users')\n",
    "    plt.ylabel('Amount Received (USD)')\n",
    "\n",
    "    plt.xticks(rotation=45)\n",
    "    plt.show()\n",
    "\n",
    "n_widget = widgets.IntSlider(value=3, min=1, max=10, step=1, description='Top n users')\n",
    "widgets.interact(plot_top_receivers, n=n_widget)"
   ]
  },
  {
   "cell_type": "markdown",
   "metadata": {},
   "source": [
    "### Top n cities by money spent"
   ]
  },
  {
   "cell_type": "code",
   "execution_count": null,
   "metadata": {},
   "outputs": [],
   "source": [
    "def plot_top_cities_by_amount_spent(n):\n",
    "    top_cities = data_analysis.total_spent_by_city(user_transactions_df, people_df, n)\n",
    "\n",
    "    plt.figure(figsize=(10, 6))\n",
    "    bars = plt.bar(top_cities['city'], top_cities['total_spent'], color='blue')\n",
    "    bars = plt.bar_label(bars)\n",
    "    plt.title(f'Top {n} Cities by Total Amount Spent (USD) by Users')\n",
    "    plt.xlabel('Cities')\n",
    "    plt.ylabel('Amount Spent (USD)')\n",
    "\n",
    "    plt.xticks(rotation=45)\n",
    "    plt.show()\n",
    "\n",
    "n_widget = widgets.IntSlider(value=3, min=1, max=5, step=1, description='Top n cities')\n",
    "widgets.interact(plot_top_cities_by_amount_spent, n=n_widget)"
   ]
  },
  {
   "cell_type": "markdown",
   "metadata": {},
   "source": [
    "### Top n cities by transactions done by users"
   ]
  },
  {
   "cell_type": "code",
   "execution_count": null,
   "metadata": {},
   "outputs": [],
   "source": [
    "def plot_top_cities_by_transactions_done(n):\n",
    "    top_cities = data_analysis.total_transactions_by_city(user_transactions_df, people_df, n)\n",
    "\n",
    "    plt.figure(figsize=(10, 6))\n",
    "    bars = plt.bar(top_cities['city'], top_cities['transaction_count'], color='blue')\n",
    "    bars = plt.bar_label(bars)\n",
    "    plt.title(f'Top {n} Cities by total transactions done by users')\n",
    "    plt.xlabel('Cities')\n",
    "    plt.ylabel('Transactions')\n",
    "\n",
    "    plt.xticks(rotation=45)\n",
    "    plt.show()\n",
    "\n",
    "n_widget = widgets.IntSlider(value=3, min=1, max=5, step=1, description='Top n cities')\n",
    "widgets.interact(plot_top_cities_by_transactions_done, n=n_widget)"
   ]
  },
  {
   "cell_type": "code",
   "execution_count": null,
   "metadata": {},
   "outputs": [],
   "source": []
  }
 ],
 "metadata": {
  "kernelspec": {
   "display_name": "Python 3 (ipykernel)",
   "language": "python",
   "name": "python3"
  },
  "language_info": {
   "codemirror_mode": {
    "name": "ipython",
    "version": 3
   },
   "file_extension": ".py",
   "mimetype": "text/x-python",
   "name": "python",
   "nbconvert_exporter": "python",
   "pygments_lexer": "ipython3",
   "version": "3.10.6"
  }
 },
 "nbformat": 4,
 "nbformat_minor": 4
}
